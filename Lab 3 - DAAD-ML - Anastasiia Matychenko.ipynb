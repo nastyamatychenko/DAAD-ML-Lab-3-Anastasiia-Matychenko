{
 "cells": [
  {
   "attachments": {},
   "cell_type": "markdown",
   "metadata": {},
   "source": [
    "### Lab 3. ML Anastasiia Matychenko"
   ]
  },
  {
   "attachments": {},
   "cell_type": "markdown",
   "metadata": {},
   "source": [
    "Завантажуємо набір даних \"Abalone\" та імпортуйте необхідні бібліотеки"
   ]
  },
  {
   "cell_type": "code",
   "execution_count": 1,
   "metadata": {},
   "outputs": [],
   "source": [
    "import pandas as pd\n",
    "from sklearn.model_selection import train_test_split\n",
    "from sklearn.preprocessing import LabelEncoder\n",
    "\n",
    "\n",
    "data_url = \"https://archive.ics.uci.edu/ml/machine-learning-databases/abalone/abalone.data\"\n",
    "column_names = [\"Sex\", \"Length\", \"Diameter\", \"Height\", \"Whole_weight\", \"Shucked_weight\",\n",
    "                \"Viscera_weight\", \"Shell_weight\", \"Rings\"]\n",
    "data = pd.read_csv(data_url, names=column_names)"
   ]
  },
  {
   "attachments": {},
   "cell_type": "markdown",
   "metadata": {},
   "source": [
    "Кодуємо категоріального ознаки \"Sex\""
   ]
  },
  {
   "cell_type": "code",
   "execution_count": null,
   "metadata": {},
   "outputs": [],
   "source": [
    "label_encoder = LabelEncoder()\n",
    "data[\"Sex\"] = label_encoder.fit_transform(data[\"Sex\"])"
   ]
  },
  {
   "attachments": {},
   "cell_type": "markdown",
   "metadata": {},
   "source": [
    "В якості метрики  регресії оберемо R2-коефіцієнт (коефіцієнт детермінації)."
   ]
  },
  {
   "cell_type": "code",
   "execution_count": 2,
   "metadata": {},
   "outputs": [],
   "source": [
    "from sklearn.metrics import r2_score"
   ]
  },
  {
   "attachments": {},
   "cell_type": "markdown",
   "metadata": {},
   "source": [
    "Розділюємо набір даних на навчальну та тестову вибірку"
   ]
  },
  {
   "cell_type": "code",
   "execution_count": 3,
   "metadata": {},
   "outputs": [],
   "source": [
    "X = data.drop(\"Rings\", axis=1)\n",
    "y = data[\"Rings\"]\n",
    "X_train, X_test, y_train, y_test = train_test_split(X, y, test_size=0.2, random_state=42)"
   ]
  },
  {
   "attachments": {},
   "cell_type": "markdown",
   "metadata": {},
   "source": [
    "### Реалізуємо навчання лінійної багатовимірної регресії за допомогою LinearRegression"
   ]
  },
  {
   "cell_type": "code",
   "execution_count": 4,
   "metadata": {},
   "outputs": [
    {
     "name": "stdout",
     "output_type": "stream",
     "text": [
      "Linear Regression:\n",
      "Train R2 Score: 0.5264768075017208\n",
      "Test R2 Score: 0.5323381317508206\n"
     ]
    }
   ],
   "source": [
    "from sklearn.linear_model import LinearRegression"
   ]
  },
  {
   "attachments": {},
   "cell_type": "markdown",
   "metadata": {},
   "source": [
    "Навчання лінійної багатовимірної регресії"
   ]
  },
  {
   "cell_type": "code",
   "execution_count": null,
   "metadata": {},
   "outputs": [],
   "source": [
    "linear_regression = LinearRegression()\n",
    "linear_regression.fit(X_train, y_train)"
   ]
  },
  {
   "attachments": {},
   "cell_type": "markdown",
   "metadata": {},
   "source": [
    "Оцінка якості моделі"
   ]
  },
  {
   "cell_type": "code",
   "execution_count": null,
   "metadata": {},
   "outputs": [],
   "source": [
    "y_train_pred = linear_regression.predict(X_train)\n",
    "y_test_pred = linear_regression.predict(X_test)\n",
    "train_r2 = r2_score(y_train, y_train_pred)\n",
    "test_r2 = r2_score(y_test, y_test_pred)\n",
    "print(\"Linear Regression:\")\n",
    "print(\"Train R2 Score:\", train_r2)\n",
    "print(\"Test R2 Score:\", test_r2)"
   ]
  },
  {
   "attachments": {},
   "cell_type": "markdown",
   "metadata": {},
   "source": [
    "# Для другої моделі, будемо використовувати лінійну багатовимірну регресію на основі логарифмованих показників"
   ]
  },
  {
   "cell_type": "code",
   "execution_count": 5,
   "metadata": {},
   "outputs": [
    {
     "name": "stdout",
     "output_type": "stream",
     "text": [
      "\n",
      "Linear Regression (Log-transformed features):\n",
      "Train R2 Score: 0.5565330991838986\n",
      "Test R2 Score: 0.5371670404236369\n"
     ]
    }
   ],
   "source": [
    "import numpy as np"
   ]
  },
  {
   "attachments": {},
   "cell_type": "markdown",
   "metadata": {},
   "source": [
    "Логарифмування показників з суттєвою лівою асиметрією"
   ]
  },
  {
   "cell_type": "code",
   "execution_count": null,
   "metadata": {},
   "outputs": [],
   "source": [
    "skewed_features = [\"Length\", \"Diameter\", \"Height\", \"Whole_weight\", \"Shucked_weight\",\n",
    "                   \"Viscera_weight\", \"Shell_weight\"]\n",
    "log_transformed = np.log1p(data[skewed_features])"
   ]
  },
  {
   "attachments": {},
   "cell_type": "markdown",
   "metadata": {},
   "source": [
    "Додавання логарифмованих показників до набору даних"
   ]
  },
  {
   "cell_type": "code",
   "execution_count": null,
   "metadata": {},
   "outputs": [],
   "source": [
    "\n",
    "data_log = pd.concat([data.drop(skewed_features, axis=1), log_transformed], axis=1)"
   ]
  },
  {
   "attachments": {},
   "cell_type": "markdown",
   "metadata": {},
   "source": [
    "Розділення набору даних на навчальну та тестову вибірки"
   ]
  },
  {
   "cell_type": "code",
   "execution_count": null,
   "metadata": {},
   "outputs": [],
   "source": [
    "X_log = data_log.drop(\"Rings\", axis=1)\n",
    "y_log = data_log[\"Rings\"]\n",
    "X_train_log, X_test_log, y_train_log, y_test_log = train_test_split(X_log, y_log, test_size=0.2, random_state=42)"
   ]
  },
  {
   "attachments": {},
   "cell_type": "markdown",
   "metadata": {},
   "source": [
    "## Навчання лінійної багатовимірної регресії на основі логарифмованих показників"
   ]
  },
  {
   "cell_type": "code",
   "execution_count": null,
   "metadata": {},
   "outputs": [],
   "source": [
    "linear_regression_log = LinearRegression()\n",
    "linear_regression_log.fit(X_train_log, y_train_log)"
   ]
  },
  {
   "attachments": {},
   "cell_type": "markdown",
   "metadata": {},
   "source": [
    "Оцінка якості моделі на основі логарифмованих показників"
   ]
  },
  {
   "cell_type": "code",
   "execution_count": null,
   "metadata": {},
   "outputs": [],
   "source": [
    "y_train_pred_log = linear_regression_log.predict(X_train_log)\n",
    "y_test_pred_log = linear_regression_log.predict(X_test_log)\n",
    "train_r2_log = r2_score(y_train_log, y_train_pred_log)\n",
    "test_r2_log = r2_score(y_test_log, y_test_pred_log)\n",
    "print(\"\\nLinear Regression (Log-transformed features):\")\n",
    "print(\"Train R2 Score:\", train_r2_log)\n",
    "print(\"Test R2 Score:\", test_r2_log)"
   ]
  },
  {
   "attachments": {},
   "cell_type": "markdown",
   "metadata": {},
   "source": [
    "# Квадрати та попарні добутки початкових показників"
   ]
  },
  {
   "cell_type": "code",
   "execution_count": 6,
   "metadata": {},
   "outputs": [
    {
     "name": "stdout",
     "output_type": "stream",
     "text": [
      "\n",
      "Linear Regression (Polynomial Features):\n",
      "Train R2 Score: 0.5847256764841892\n",
      "Test R2 Score: 0.549572348589771\n"
     ]
    }
   ],
   "source": [
    "from sklearn.preprocessing import PolynomialFeatures"
   ]
  },
  {
   "attachments": {},
   "cell_type": "markdown",
   "metadata": {},
   "source": [
    "Додавання квадратів та попарних добутків початкових показників"
   ]
  },
  {
   "cell_type": "code",
   "execution_count": null,
   "metadata": {},
   "outputs": [],
   "source": [
    "poly_features = PolynomialFeatures(degree=2, include_bias=False)\n",
    "X_poly = poly_features.fit_transform(X)\n",
    "X_train_poly, X_test_poly, y_train_poly, y_test_poly = train_test_split(X_poly, y, test_size=0.2, random_state=42)"
   ]
  },
  {
   "attachments": {},
   "cell_type": "markdown",
   "metadata": {},
   "source": [
    "Навчання лінійної багатовимірної регресії з поліноміальними ознаками"
   ]
  },
  {
   "cell_type": "code",
   "execution_count": null,
   "metadata": {},
   "outputs": [],
   "source": [
    "linear_regression_poly = LinearRegression()\n",
    "linear_regression_poly.fit(X_train_poly, y_train_poly)"
   ]
  },
  {
   "attachments": {},
   "cell_type": "markdown",
   "metadata": {},
   "source": [
    "Оцінка якості моделі з поліноміальними ознаками"
   ]
  },
  {
   "cell_type": "code",
   "execution_count": null,
   "metadata": {},
   "outputs": [],
   "source": [
    "y_train_pred_poly = linear_regression_poly.predict(X_train_poly)\n",
    "y_test_pred_poly = linear_regression_poly.predict(X_test_poly)\n",
    "train_r2_poly = r2_score(y_train_poly, y_train_pred_poly)\n",
    "test_r2_poly = r2_score(y_test_poly, y_test_pred_poly)\n",
    "print(\"\\nLinear Regression (Polynomial Features):\")\n",
    "print(\"Train R2 Score:\", train_r2_poly)\n",
    "print(\"Test R2 Score:\", test_r2_poly)"
   ]
  },
  {
   "attachments": {},
   "cell_type": "markdown",
   "metadata": {},
   "source": [
    "Навчання непараметричної моделі регресії використовуючи RandomForestRegressor:"
   ]
  },
  {
   "cell_type": "code",
   "execution_count": 7,
   "metadata": {},
   "outputs": [
    {
     "name": "stdout",
     "output_type": "stream",
     "text": [
      "\n",
      "Random Forest Regression:\n",
      "Train R2 Score: 0.9386289073954626\n",
      "Test R2 Score: 0.5296671259326307\n"
     ]
    }
   ],
   "source": [
    "from sklearn.ensemble import RandomForestRegressor"
   ]
  },
  {
   "attachments": {},
   "cell_type": "markdown",
   "metadata": {},
   "source": [
    "Навчання лісу дерев регресії"
   ]
  },
  {
   "cell_type": "code",
   "execution_count": null,
   "metadata": {},
   "outputs": [],
   "source": [
    "random_forest = RandomForestRegressor(random_state=42)\n",
    "random_forest.fit(X_train, y_train)"
   ]
  },
  {
   "attachments": {},
   "cell_type": "markdown",
   "metadata": {},
   "source": [
    "Оцінка якості моделі"
   ]
  },
  {
   "cell_type": "code",
   "execution_count": null,
   "metadata": {},
   "outputs": [],
   "source": [
    "y_train_pred_rf = random_forest.predict(X_train)\n",
    "y_test_pred_rf = random_forest.predict(X_test)\n",
    "train_r2_rf = r2_score(y_train, y_train_pred_rf)\n",
    "test_r2_rf = r2_score(y_test, y_test_pred_rf)\n",
    "print(\"\\nRandom Forest Regression:\")\n",
    "print(\"Train R2 Score:\", train_r2_rf)\n",
    "print(\"Test R2 Score:\", test_r2_rf)"
   ]
  },
  {
   "cell_type": "code",
   "execution_count": 8,
   "metadata": {},
   "outputs": [
    {
     "name": "stdout",
     "output_type": "stream",
     "text": [
      "\n",
      "Test R2 Scores:\n",
      "Linear Regression: 0.5323381317508206\n",
      "Linear Regression (Log-transformed features): 0.5371670404236369\n",
      "Linear Regression (Polynomial Features): 0.549572348589771\n",
      "Random Forest Regression: 0.5296671259326307\n"
     ]
    }
   ],
   "source": [
    "print(\"\\nTest R2 Scores:\")\n",
    "print(\"Linear Regression:\", test_r2)\n",
    "print(\"Linear Regression (Log-transformed features):\", test_r2_log)\n",
    "print(\"Linear Regression (Polynomial Features):\", test_r2_poly)\n",
    "print(\"Random Forest Regression:\", test_r2_rf)\n"
   ]
  },
  {
   "cell_type": "code",
   "execution_count": 9,
   "metadata": {},
   "outputs": [
    {
     "name": "stdout",
     "output_type": "stream",
     "text": [
      "\n",
      "Best Model on Test Set:\n",
      "Model: Linear Regression (Polynomial Features)\n",
      "Test R2 Score: 0.549572348589771\n"
     ]
    }
   ],
   "source": [
    "best_model = max([(test_r2, \"Linear Regression\"),\n",
    "                  (test_r2_log, \"Linear Regression (Log-transformed features)\"),\n",
    "                  (test_r2_poly, \"Linear Regression (Polynomial Features)\"),\n",
    "                  (test_r2_rf, \"Random Forest Regression\")],\n",
    "                 key=lambda x: x[0])\n",
    "\n",
    "print(\"\\nBest Model on Test Set:\")\n",
    "print(\"Model:\", best_model[1])\n",
    "print(\"Test R2 Score:\", best_model[0])\n"
   ]
  }
 ],
 "metadata": {
  "kernelspec": {
   "display_name": "base",
   "language": "python",
   "name": "python3"
  },
  "language_info": {
   "codemirror_mode": {
    "name": "ipython",
    "version": 3
   },
   "file_extension": ".py",
   "mimetype": "text/x-python",
   "name": "python",
   "nbconvert_exporter": "python",
   "pygments_lexer": "ipython3",
   "version": "3.9.7"
  },
  "orig_nbformat": 4
 },
 "nbformat": 4,
 "nbformat_minor": 2
}
